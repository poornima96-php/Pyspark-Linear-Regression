{
 "cells": [
  {
   "cell_type": "code",
   "execution_count": 1,
   "id": "42775558",
   "metadata": {},
   "outputs": [],
   "source": [
    "import findspark\n",
    "findspark.init()"
   ]
  },
  {
   "cell_type": "code",
   "execution_count": 2,
   "id": "36b8fa62",
   "metadata": {},
   "outputs": [],
   "source": [
    "import pyspark"
   ]
  },
  {
   "cell_type": "code",
   "execution_count": 3,
   "id": "3eea7d34",
   "metadata": {},
   "outputs": [],
   "source": [
    "from pyspark.sql import SparkSession\n"
   ]
  },
  {
   "cell_type": "code",
   "execution_count": 4,
   "id": "0b78a975",
   "metadata": {},
   "outputs": [],
   "source": [
    "spark=SparkSession.builder.getOrCreate()"
   ]
  },
  {
   "cell_type": "code",
   "execution_count": 5,
   "id": "3c016551",
   "metadata": {},
   "outputs": [
    {
     "data": {
      "text/html": [
       "\n",
       "            <div>\n",
       "                <p><b>SparkSession - in-memory</b></p>\n",
       "                \n",
       "        <div>\n",
       "            <p><b>SparkContext</b></p>\n",
       "\n",
       "            <p><a href=\"http://LAPTOP-FKTG3JKJ:4040\">Spark UI</a></p>\n",
       "\n",
       "            <dl>\n",
       "              <dt>Version</dt>\n",
       "                <dd><code>v3.2.1</code></dd>\n",
       "              <dt>Master</dt>\n",
       "                <dd><code>local[*]</code></dd>\n",
       "              <dt>AppName</dt>\n",
       "                <dd><code>pyspark-shell</code></dd>\n",
       "            </dl>\n",
       "        </div>\n",
       "        \n",
       "            </div>\n",
       "        "
      ],
      "text/plain": [
       "<pyspark.sql.session.SparkSession at 0x21b58cc3810>"
      ]
     },
     "execution_count": 5,
     "metadata": {},
     "output_type": "execute_result"
    }
   ],
   "source": [
    "spark"
   ]
  },
  {
   "cell_type": "code",
   "execution_count": 6,
   "id": "2bb1c3ea",
   "metadata": {},
   "outputs": [
    {
     "name": "stdout",
     "output_type": "stream",
     "text": [
      "+--------+---+----------+------+\n",
      "|    Name|age|Experience|Salary|\n",
      "+--------+---+----------+------+\n",
      "|    jack| 31|        10| 30000|\n",
      "|    alex| 30|         8| 25000|\n",
      "|caroline| 29|         4| 20000|\n",
      "|    paul| 24|         3| 20000|\n",
      "|  sandra| 21|         1| 15000|\n",
      "|casandra| 23|         2| 18000|\n",
      "+--------+---+----------+------+\n",
      "\n"
     ]
    }
   ],
   "source": [
    "training=spark.read.option('header','true').csv(r'C:\\Users\\poorn\\OneDrive\\Documents\\Prajapati_Sir_Naresh_IT\\sample1.csv')\n",
    "training.show()"
   ]
  },
  {
   "cell_type": "code",
   "execution_count": 7,
   "id": "41aa7c51",
   "metadata": {},
   "outputs": [
    {
     "name": "stdout",
     "output_type": "stream",
     "text": [
      "root\n",
      " |-- Name: string (nullable = true)\n",
      " |-- age: string (nullable = true)\n",
      " |-- Experience: string (nullable = true)\n",
      " |-- Salary: string (nullable = true)\n",
      "\n"
     ]
    }
   ],
   "source": [
    "training.printSchema()"
   ]
  },
  {
   "cell_type": "code",
   "execution_count": 8,
   "id": "3992897b",
   "metadata": {},
   "outputs": [],
   "source": [
    "#Age and experience columne string to int\n",
    "from pyspark.sql.types import IntegerType\n",
    "\n",
    "training = training.withColumn('age', training['age'].cast(IntegerType()))\n",
    "training = training.withColumn('Experience', training['Experience'].cast(IntegerType()))\n",
    "training = training.withColumn('Salary', training['Salary'].cast(IntegerType()))"
   ]
  },
  {
   "cell_type": "code",
   "execution_count": 9,
   "id": "5a67259b",
   "metadata": {},
   "outputs": [],
   "source": [
    "from pyspark.ml.feature import VectorAssembler\n",
    "featureassembler=VectorAssembler(inputCols=[\"age\",\"Experience\"],outputCol=\"Independent Features\")\n"
   ]
  },
  {
   "cell_type": "code",
   "execution_count": 10,
   "id": "b16ef09a",
   "metadata": {},
   "outputs": [],
   "source": [
    "output=featureassembler.transform(training)"
   ]
  },
  {
   "cell_type": "code",
   "execution_count": 11,
   "id": "8a3989b1",
   "metadata": {},
   "outputs": [
    {
     "name": "stdout",
     "output_type": "stream",
     "text": [
      "+--------+---+----------+------+--------------------+\n",
      "|    Name|age|Experience|Salary|Independent Features|\n",
      "+--------+---+----------+------+--------------------+\n",
      "|    jack| 31|        10| 30000|         [31.0,10.0]|\n",
      "|    alex| 30|         8| 25000|          [30.0,8.0]|\n",
      "|caroline| 29|         4| 20000|          [29.0,4.0]|\n",
      "|    paul| 24|         3| 20000|          [24.0,3.0]|\n",
      "|  sandra| 21|         1| 15000|          [21.0,1.0]|\n",
      "|casandra| 23|         2| 18000|          [23.0,2.0]|\n",
      "+--------+---+----------+------+--------------------+\n",
      "\n"
     ]
    }
   ],
   "source": [
    "output.show()"
   ]
  },
  {
   "cell_type": "code",
   "execution_count": 12,
   "id": "76f98542",
   "metadata": {},
   "outputs": [
    {
     "data": {
      "text/plain": [
       "['Name', 'age', 'Experience', 'Salary', 'Independent Features']"
      ]
     },
     "execution_count": 12,
     "metadata": {},
     "output_type": "execute_result"
    }
   ],
   "source": [
    "output.columns"
   ]
  },
  {
   "cell_type": "code",
   "execution_count": 13,
   "id": "5f082a07",
   "metadata": {},
   "outputs": [],
   "source": [
    "finalized_data=output.select([\"Salary\", \"Independent Features\"])"
   ]
  },
  {
   "cell_type": "code",
   "execution_count": 14,
   "id": "a4a2593d",
   "metadata": {},
   "outputs": [
    {
     "name": "stdout",
     "output_type": "stream",
     "text": [
      "+------+--------------------+\n",
      "|Salary|Independent Features|\n",
      "+------+--------------------+\n",
      "| 30000|         [31.0,10.0]|\n",
      "| 25000|          [30.0,8.0]|\n",
      "| 20000|          [29.0,4.0]|\n",
      "| 20000|          [24.0,3.0]|\n",
      "| 15000|          [21.0,1.0]|\n",
      "| 18000|          [23.0,2.0]|\n",
      "+------+--------------------+\n",
      "\n"
     ]
    }
   ],
   "source": [
    "finalized_data.show()"
   ]
  },
  {
   "cell_type": "code",
   "execution_count": 15,
   "id": "d4c2a751",
   "metadata": {},
   "outputs": [],
   "source": [
    "train_data, test_data= finalized_data.randomSplit([0.75,0.25])"
   ]
  },
  {
   "cell_type": "code",
   "execution_count": 16,
   "id": "08c36270",
   "metadata": {},
   "outputs": [
    {
     "data": {
      "text/plain": [
       "[('Name', 'string'), ('age', 'int'), ('Experience', 'int'), ('Salary', 'int')]"
      ]
     },
     "execution_count": 16,
     "metadata": {},
     "output_type": "execute_result"
    }
   ],
   "source": [
    "training.dtypes"
   ]
  },
  {
   "cell_type": "code",
   "execution_count": 17,
   "id": "6b7dcb8e",
   "metadata": {},
   "outputs": [],
   "source": [
    "from pyspark.ml.regression import LinearRegression"
   ]
  },
  {
   "cell_type": "code",
   "execution_count": 18,
   "id": "b39c9986",
   "metadata": {},
   "outputs": [],
   "source": [
    "regressor = LinearRegression( featuresCol='Independent Features', labelCol='Salary')\n",
    "regressor = regressor.fit(train_data)"
   ]
  },
  {
   "cell_type": "code",
   "execution_count": 20,
   "id": "29c49d4b",
   "metadata": {},
   "outputs": [
    {
     "data": {
      "text/plain": [
       "DenseVector([-263.7076, 1767.624])"
      ]
     },
     "execution_count": 20,
     "metadata": {},
     "output_type": "execute_result"
    }
   ],
   "source": [
    "### Coefficients\n",
    "regressor.coefficients"
   ]
  },
  {
   "cell_type": "code",
   "execution_count": 21,
   "id": "0f558b42",
   "metadata": {},
   "outputs": [
    {
     "data": {
      "text/plain": [
       "19919.060052212404"
      ]
     },
     "execution_count": 21,
     "metadata": {},
     "output_type": "execute_result"
    }
   ],
   "source": [
    "### Intercepts\n",
    "regressor.intercept"
   ]
  },
  {
   "cell_type": "code",
   "execution_count": 22,
   "id": "e5a0a1b0",
   "metadata": {},
   "outputs": [],
   "source": [
    "### Prediction\n",
    "pred_results=regressor.evaluate(test_data)"
   ]
  },
  {
   "cell_type": "code",
   "execution_count": 23,
   "id": "e34d4269",
   "metadata": {},
   "outputs": [
    {
     "name": "stderr",
     "output_type": "stream",
     "text": [
      "C:\\Spark1\\spark-3.2.1-bin-hadoop3.2\\spark-3.2.1-bin-hadoop3.2\\python\\pyspark\\sql\\context.py:125: FutureWarning: Deprecated in 3.0.0. Use SparkSession.builder.getOrCreate() instead.\n",
      "  warnings.warn(\n"
     ]
    },
    {
     "name": "stdout",
     "output_type": "stream",
     "text": [
      "+------+--------------------+-----------------+\n",
      "|Salary|Independent Features|       prediction|\n",
      "+------+--------------------+-----------------+\n",
      "| 20000|          [29.0,4.0]|19342.03655352618|\n",
      "+------+--------------------+-----------------+\n",
      "\n"
     ]
    }
   ],
   "source": [
    "pred_results.predictions.show()"
   ]
  }
 ],
 "metadata": {
  "kernelspec": {
   "display_name": "Python 3 (ipykernel)",
   "language": "python",
   "name": "python3"
  },
  "language_info": {
   "codemirror_mode": {
    "name": "ipython",
    "version": 3
   },
   "file_extension": ".py",
   "mimetype": "text/x-python",
   "name": "python",
   "nbconvert_exporter": "python",
   "pygments_lexer": "ipython3",
   "version": "3.11.4"
  }
 },
 "nbformat": 4,
 "nbformat_minor": 5
}
